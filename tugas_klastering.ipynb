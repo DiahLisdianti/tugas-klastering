{
  "nbformat": 4,
  "nbformat_minor": 0,
  "metadata": {
    "colab": {
      "provenance": []
    },
    "kernelspec": {
      "name": "python3",
      "display_name": "Python 3"
    },
    "language_info": {
      "name": "python"
    }
  },
  "cells": [
    {
      "cell_type": "code",
      "source": [
        "!pip3 install snscrape"
      ],
      "metadata": {
        "colab": {
          "base_uri": "https://localhost:8080/"
        },
        "id": "AJF46psm9q0a",
        "outputId": "28f2abbd-b996-4ef7-dae2-658dd3d4bc2d"
      },
      "execution_count": 18,
      "outputs": [
        {
          "output_type": "stream",
          "name": "stdout",
          "text": [
            "Looking in indexes: https://pypi.org/simple, https://us-python.pkg.dev/colab-wheels/public/simple/\n",
            "Requirement already satisfied: snscrape in /usr/local/lib/python3.7/dist-packages (0.3.4)\n",
            "Requirement already satisfied: requests[socks] in /usr/local/lib/python3.7/dist-packages (from snscrape) (2.23.0)\n",
            "Requirement already satisfied: beautifulsoup4 in /usr/local/lib/python3.7/dist-packages (from snscrape) (4.6.3)\n",
            "Requirement already satisfied: lxml in /usr/local/lib/python3.7/dist-packages (from snscrape) (4.9.1)\n",
            "Requirement already satisfied: urllib3!=1.25.0,!=1.25.1,<1.26,>=1.21.1 in /usr/local/lib/python3.7/dist-packages (from requests[socks]->snscrape) (1.24.3)\n",
            "Requirement already satisfied: idna<3,>=2.5 in /usr/local/lib/python3.7/dist-packages (from requests[socks]->snscrape) (2.10)\n",
            "Requirement already satisfied: certifi>=2017.4.17 in /usr/local/lib/python3.7/dist-packages (from requests[socks]->snscrape) (2022.9.24)\n",
            "Requirement already satisfied: chardet<4,>=3.0.2 in /usr/local/lib/python3.7/dist-packages (from requests[socks]->snscrape) (3.0.4)\n",
            "Requirement already satisfied: PySocks!=1.5.7,>=1.5.6 in /usr/local/lib/python3.7/dist-packages (from requests[socks]->snscrape) (1.7.1)\n"
          ]
        }
      ]
    },
    {
      "cell_type": "code",
      "source": [
        "!pip install langdetect"
      ],
      "metadata": {
        "colab": {
          "base_uri": "https://localhost:8080/"
        },
        "id": "vgC_0-Pe-rGy",
        "outputId": "6ec1b7db-65d9-4076-c410-05709957e48a"
      },
      "execution_count": 3,
      "outputs": [
        {
          "output_type": "stream",
          "name": "stdout",
          "text": [
            "Looking in indexes: https://pypi.org/simple, https://us-python.pkg.dev/colab-wheels/public/simple/\n",
            "Collecting langdetect\n",
            "  Downloading langdetect-1.0.9.tar.gz (981 kB)\n",
            "\u001b[K     |████████████████████████████████| 981 kB 6.8 MB/s \n",
            "\u001b[?25hRequirement already satisfied: six in /usr/local/lib/python3.7/dist-packages (from langdetect) (1.15.0)\n",
            "Building wheels for collected packages: langdetect\n",
            "  Building wheel for langdetect (setup.py) ... \u001b[?25l\u001b[?25hdone\n",
            "  Created wheel for langdetect: filename=langdetect-1.0.9-py3-none-any.whl size=993242 sha256=195a13bbf31ba13b6c70d0b522a2080ccbbbdfee9eb132d788fc503f53d4232c\n",
            "  Stored in directory: /root/.cache/pip/wheels/c5/96/8a/f90c59ed25d75e50a8c10a1b1c2d4c402e4dacfa87f3aff36a\n",
            "Successfully built langdetect\n",
            "Installing collected packages: langdetect\n",
            "Successfully installed langdetect-1.0.9\n"
          ]
        }
      ]
    },
    {
      "cell_type": "code",
      "source": [
        "import snscrape.modules.twitter as sntwitter\n",
        "import json\n",
        "from langdetect import detect"
      ],
      "metadata": {
        "id": "f2eT4tAN-5ZG"
      },
      "execution_count": 19,
      "outputs": []
    },
    {
      "cell_type": "code",
      "source": [
        "# MEMASUKAN KATA KUNCI\n",
        "keywords=['wamil']\n",
        "start=\"2022–10–16\"\n",
        "end =\"2022–10–17\"\n",
        "max_num=100\n",
        "fname='tweet.json' \n",
        "languages=['id','en']"
      ],
      "metadata": {
        "id": "1XPgGspM_AdZ"
      },
      "execution_count": 5,
      "outputs": []
    },
    {
      "cell_type": "code",
      "source": [
        "import pandas as pd\n",
        "datatw=[]"
      ],
      "metadata": {
        "id": "R67Xb1_G_sje"
      },
      "execution_count": 20,
      "outputs": []
    },
    {
      "cell_type": "code",
      "source": [
        "for keyword in keywords:\n",
        "   \n",
        "    for i, tweet in enumerate (sntwitter.TwitterSearchScraper(f'{keyword} ').get_items()):\n",
        "        \n",
        "        try:\n",
        "            lan=detect(tweet.content)\n",
        "        except:\n",
        "            lan='error'\n",
        "        if i == max_num:\n",
        "            break\n",
        "        if lan in languages:\n",
        "            data = {'id': tweet.id, 'username':tweet.username, 'date': tweet.date, 'text': tweet.content,'url':tweet.url}\n",
        "           # print(data)\n",
        "            datatw.append(tweet.content)\n",
        "            with open(fname, 'a+', encoding='utf-8') as f:\n",
        "                line = json.dumps(data, ensure_ascii=False,default=str)\n",
        "                #print(line)\n",
        "                f.write(line)\n",
        "                f.write('\\n')"
      ],
      "metadata": {
        "id": "xIwF-TSV_969"
      },
      "execution_count": 7,
      "outputs": []
    },
    {
      "cell_type": "code",
      "source": [
        "datatw"
      ],
      "metadata": {
        "colab": {
          "base_uri": "https://localhost:8080/"
        },
        "id": "BYoVRSD6ACcw",
        "outputId": "baa43adb-90ad-400e-bfd1-068fcd2528cf"
      },
      "execution_count": 8,
      "outputs": [
        {
          "output_type": "execute_result",
          "data": {
            "text/plain": [
              "[\"@luvintae_ Pas pulang wamil ngapain ya soalnya kalo mau nge'live kan dah diklaim 😞\",\n",
              " 'Sayang @BTS_twt aku berharap banget kalian 100% wamil, kalian manusia yg bisa cape dan bukan robot yg bisa di mainin sama manusia. Aku gamau kalian di jadiin sapi perah sama pemerintah korsel. https://t.co/a79nSUcb4F',\n",
              " 'crop blouse lurik songket untuk outfit kondangan cakep nih\\n🔗https://t.co/LaUMLLWJdp\\n\\nt. itzy we trust you wamil baekhyun bighit macbook ipad nokia editan pinggang rest of my live le sserafim #MEWxSUHO #apobangpo https://t.co/NLM9Qdt6E8',\n",
              " 'tweet untuk mengisi keseharian selama ditinggal ayang wamil',\n",
              " '@honsoolatnight K army juga gak trima...biar mereka wamil semua..biar gak ada beban...lihat aja nanti..brita apa yang keluar nanti😂😂..kontribusi bts 0%5 B...itu bukan sedikit😝😝',\n",
              " '@chizikook_ Ilang rasa excited karna Jin mau wamil. Sialan emang, maaf banget kasar tapi, sumpah anjing',\n",
              " 'Gw udh seneng banget mereka bakal wamil tpi pemerintah mlah kasih opsi yg bikin bangtan gak fokus wamil\\nLeave them alone pliss https://t.co/qLwr0j4E7t',\n",
              " 'HAAAH??? kok tbtb udh mau wamil aja gantengku:(( https://t.co/HWdeGcKAuX',\n",
              " 'Udah ketebak kepop es otaknya sedengkul pasti ketikannya \"ASET NEGARA KOK WAMIL\"\\nya karna otaknya cuma sedengkul🤣',\n",
              " '#ForeverWithBTS #bangtan #WeWillWaitForYouBTS #semoga2025 #wamil #WeTrustYouBTS https://t.co/UKrBNK8sHr',\n",
              " 'Dih masa tetep disuruh tampil walaupun lagi wamil? pemerintah disana kocak bgt https://t.co/D25mOhIFv9',\n",
              " 'Jin BTS Akan Segera Wamil Setelah Rampungkan Proyek Solo https://t.co/wtbuScVtNS',\n",
              " 'Sedih bgt gue, seokjin mau wamil. Hiks //',\n",
              " 'Rekomendasi Jam Tangan\\n1. https://t.co/FORUBLa9xm\\n2. https://t.co/IuCrGbP1Zd\\n3. https://t.co/ZP3rJLExnW\\n4. https://t.co/XKxBuPbH7m\\n\\ntags: MacBook Wamil Semoga 2025 REST OF MY LIFE Editan KM 50 Pinggang iPad #racunshoope #racunbelanja #shopeeaffiliate #OOTD https://t.co/YBJA4CFKRM',\n",
              " 'Setuju, manfaatkan waktu ygy! \\nDulu, tanggal mbul wamil = sempro skripsi an gue, alhamdulillah,doi kelar wamil, gue kelar kuliah dan dah kerja. https://t.co/RFB58jJwtS',\n",
              " 'Sedih campur bahagia denger Bangtan wamil dan dimulai dari jin kemudian disusul member lain, tapi kami akan setia menunggu kalian.\\nSampai bertemu kembali di tahun 2025 semoga nanti kalian udah jadi appa online dari anakku wkwk #석진아사랑해하트\\n#BTSJIN #btsarmyforever https://t.co/oOTxiB6Gct',\n",
              " 'Buseett, ngga wamil dibacotin. Udah diokein wamil, masih dibacotin. Mereka maunya teh naon si... \\U0001f972',\n",
              " 'semoga balik wamil jungkook diberi hidayah biar gausa pake template begini lagiiii https://t.co/O447mDkfmA',\n",
              " 'Hari ini gue ultah, dapet kado bangtan mau wamil. Agak beda ya kadonya \\U0001f972\\nSmga bsa ktemu 2025 bareng orang2 terkasih in my life. 2025 gue jadi apa ya? Udah nikah atau udah punya anak? Atau masih asik ngefangirl?',\n",
              " 'fyp tiktok isinya sedih semua bahas bangtan yg mau wamil kan jadi makin sedihhhh\\U0001f972\\U0001f972😭',\n",
              " 'Belum jg ke Indo lagi udh mau wamil aja 😭',\n",
              " '@Junmyeonid BTS WAMIL:\\nARMY KETAR KETIR ❌\\nPEMERINTAH KETAR KETIR ✅\\nEXOLOL KEPANASAN ✅\\nperasaan fandom kalian ini yg dari dulu ngebahas wamil bts deh. ckck bts belom wamil kepanasan, giliran wamil lebih kepanasan. mending urusin aja cb idol lo yg flop itu 🤣',\n",
              " '@KimSintaa @Junmyeonid Pas gak wamil fave lo brisik nanyain kapan wamil, giliran idol gw wamil lo sepelein wkwkw\\nJobless sekali anda',\n",
              " '@kimchikoritae @gab_indah NJIRRRRRR. KLO GINI MAH, DAH SEMUA MASUK WAMIL DL! COMEBACK SEXIER YAAA DADDIES🔥🔥',\n",
              " 'Jujur baru denger kalo bangtan mau wamil :\") nangis anjr',\n",
              " 'bukan masalah umur ya terus masalah apa? yg namanya wamil ya dibatesin pake umur kocak, idol lu udah lewat batas umur nya baru mau berangkat sedangkan member exo yg seusia dia udah kelar semua. https://t.co/yffoXnrx7F',\n",
              " '@dioyourbest @isp0ck_ @lovely_jublly @Junmyeonid Mbak BTS diajukan bebas wamil sekitar th 2019, wacana dr politikus &amp; didukung semua Agensi, diajukan ke pemerintah. Pengajuan awal pakai Chart BB 200 BTS (pertama kali musisi korsel Di pucak chart).Lama nih pembahasannya sampai th 2020 pemerintah ketok palu, bukan bebas wamil tp',\n",
              " '@laviedenoona Ya Allah semoga kita semua panjang umur yaa ARMY ARMYYY biar bisa liat BTS selesai wamil pake baju wamilnya 😭😭😭😭😭😭😭😭😭😭😭😭',\n",
              " '@najaeclouds Duh gabisa.. nunggu selesai wamil dulu',\n",
              " 'Ga wamil dikatain, wamil dikatain, hadeehh.. ga peduli dah yang penting jodoh gue min yoongi',\n",
              " 'Bangtan mau wamil, sekalian juga tahun depan Taeil juga mau wamil\\n\\nHuaa aku ditinggalkan bujang-bujang aku, tapi gpp apapun keputusannya itulah yg terbaik',\n",
              " 'Mending bangtan full wamil aja, biar mereka bisa istirahat 😂\\n\\nEnak aja bangtan harus pusing nyumbang uang buat negara. https://t.co/n4cUoFvjQ9',\n",
              " 'dia udah tau klo ytc jadi konser terakhir mereka sblm wamil😭 noooo my heart💔 https://t.co/h8otzOmQ6W',\n",
              " 'WKWKWKWK keluar wamil jadi kang cimol 😩 https://t.co/WNvItokS9b',\n",
              " '@parkkk_nchimm Loh bangtan uda mutusin wamil. Hrsnya ttp oergi lah',\n",
              " '@taeslegalwife @tari_unyu03 Idol lain yang 92L rerata udah beres wamil, 92Lnya EXO juga udah pada wamil bahkan otw dan udah selesai. Lah idol situ, 92L baru mulai wamil 😂😂😂😂',\n",
              " '@yaudahyadek Tapi mereka tetep bawa hp kok, jadi bisa komunikasi. Ntar ternyata masuk divisi yg sama pas wamil ya lucu jadinya, senior-junior. Siap laksanakan 👨\\u200d✈️',\n",
              " '@diaportheus Siapa tau habis wamil udah ada👀',\n",
              " 'p bities mw wamil 😞',\n",
              " 'pikiranku pas tau bts wamil https://t.co/DmuNV1WKbP',\n",
              " 'Pantesan pas konser kemarin seokjin bilang kalo album nya bakalan rilis akhir bulan ini ternyata dia mau wamil 🥺 \\nPadahal pas Festa yoongi bilang dia rilis album setelah jhope 🥺💜\\nBut, its okay! Siapapun itu pasti music kalian selalu bagus💜\\n\\nWE WILL WAIT FOR YOU JIN https://t.co/fypeltCK2M',\n",
              " 'Bts si libur 2 tahun, ongkang² kaki, wamil jg masi tajir melintir 🤪🤪🤪\\n\\nPemerintah duh kasian gaada pendapatan🤪🤪 https://t.co/kxRI4vQElB',\n",
              " '@atraxiara Kaakkk, tolong ya walaupun bts mau wamil, kaka tetep bikin au buat ngehibur aku, tolong banget inimah, seenggaknya buat ngehilangin rasa rindu aku ke mereka 😭😭😭',\n",
              " 'REST OF MY LIFE \\nARMY \\nWamil\\nSemoga aku kuattt',\n",
              " 'Gambarkan perasaanmu setelah mendengar announcement Big Hit about #btsmilitaryenlistment\\n.\\n.\\n.\\n\\n#YetToComeinBUSAN #YetToCome #btsmilitary #btsmilitaryservice #wamil #BTSJIN https://t.co/WDYliuQk0t',\n",
              " '@justtblue @starfess Kliatan gak bakal naik klo bts ada agaknya ksian mau naik aja nunggu bts wamil masa nnti balik wamil turun lagi klian kan gak lucu mnding klo mau naik naik aja gausah nunggu wamil',\n",
              " '@almostdita Ingin memaki, wamil ya wamil aja gausah nyuruh konser atau aktivitas idol lagi. Suruh noh grup lain yang perform sama bikin lagu😭',\n",
              " '@simjxke Iya tapi kalau nanti wamil berarti harus ikutan rest?(?)',\n",
              " 'Sayang bngt sm kaliann.. sampe ga rela kalian harus pergi wamil selama 2 tahun, tpi ak g boleh egois ak bakalan ttp dukung kalian apapun itu, and juga satu lgi ak bakalan nunggu kalian sampai kalian kembali lagi..\\nSee you sayang💜\\nSehat\" terus yaaa😄\\n\\n#apobangpo \\n#ForeverWithBTS https://t.co/kNiJOQIXHF',\n",
              " '@konjugasii Selama bangtan wamil bismillah aku mau pendidikan b.jepang terus kerja di jepang nabung, bahagiain keluarga, terus bisa ke konser bangtan yuk bisa yuk army kita grow up bareng2💜🤗',\n",
              " 'Lah ngomongin idolnya sendiri🤣🤣 \\nBukannya idolmu yg rakyat jelata? Udah ga ngasih impact buat negara eh fandomnya ngatain idol yg ditahan2 pemerintah buat wamil🤣\\nLo bilang Anak asli korea yg wamil sbg rakyat jelata aja udah goblok!!🤣🤣 https://t.co/2SA1d7sg8l',\n",
              " 'eh mereka wamil karna keinginan mereka sendiri ya tai https://t.co/6RA0tQwyIg',\n",
              " 'mas dowoon wamil tp tiap hari pasti ada aja updatean preview mana tiap hari makin ganteng en gemec😭',\n",
              " '@smolbaeki @mycrocosmosm @adeknya_Loey @loeymafia @taeslegalwife ngapain exol selalu ribut ketika bts belum wamil?\\n\"Wamil dong...\"\\n\"Gak laki klw belum wamil..\"\\n\"Banci ya gak wamil2..\"\\n\"Klw laki tuh wamil..\" \\nSampe muak gua.\\n\\n eh jangan lupa petisi bubarkan BTS 2018 gara2 diisukan bebas wamil😌. duh, alay',\n",
              " '@nvytnvyt Yaa iyaa emang dibahas. Tapi hasil akhirnya pemerintah tetap nyuruh bst wamil kan ? \\nCoba sebutin pejabat pemerintah mana yg nahan bst buat gak wamil ? Gak adaa. Bisa bedain kan antara didiskusikan dgn hasil diskusi? Balesin komen Lo, gue kek bicara sama tembok',\n",
              " 'cieee seokjin aku mau wamil\\n\\nit’s okay, i’ll be waiting for u forever. it’s kinda cringe but i’m gonna tell you that I LOVE YOU SO MUCH. still believe that you’re my soulmate lol. okay, enough.\\nsee you in 2025. https://t.co/saEnEnkxWw',\n",
              " '@lupph6715 @cewekcantikadik @baekyeolpups iya baru beberapa yg wamil dalam suatu grup bakal mulai ada yang oleng fansya itu pasti..... semua grup juga bakal gitu',\n",
              " 'Itu masih rumor apa fix kak?? Btw brrti mksd nya wamil nya bangtan ga 100% ya?? https://t.co/e6EEAkTo7G',\n",
              " '@lubnasyf orng yg 2 aja blum wamil..thn 2023 grup onoh gabakal lengkap juga\\nplingan barengan 2025 baru full member\\n\\nmereka tu suka hujat diduluin..mikir blakangan🤭🤭',\n",
              " '2025 tuh semua kelar wamil kan?',\n",
              " 'Pantes aja kemaren ngadain konser gratis ternyata mau di tinggal wamil 😭',\n",
              " '@Junmyeonid Noh di baca lagi, bangtan mau wamil dengan tenang aja, PIHAK PEMERINTAH, masih ngerecokin nyuruh mereka tampil 😒 https://t.co/JyVPrm4UCi',\n",
              " 'Baru beberapa jam ada berita bangtan mau wamil ini pmrnth sokor udah bikin emosiii aja ya, dipikir bangtan tuh robot yg gak punya rasa capek apa. \\nGilakkk emng mereka🤬 https://t.co/Y95So0LxXh',\n",
              " 'Eh ada tau yg wamil tetep update2,\\nNtar tuh tergantung mereka di bagian apa jobnya https://t.co/VtSQfv8U07',\n",
              " '@vieolyn di kira biasnya ga wamil apa ya? lol 😂',\n",
              " 'tolonk pas bts wamil, jangan jualan yg aneh aneh biar ak bisa kaya karna menabung @bts_bighit',\n",
              " 'Sebenernya gue udah tau bakalan sepatah hati apa kalo BTS ngumumin wamil.\\n\\nBut, dude, this is even worse. Happening on Monday, disaat hormon gue lagi naik turun. Sekalinya mood jatoh udah langsung ambyar.\\n\\nBeneran kayak diputusin pacar pas lagi sayang bangettt https://t.co/Sg1zyEQ3YK',\n",
              " 'wkwkwk yaudah deh life goes on ajaa, gw nungguin lucas balik, gw juga nunggu bangtan balik wamil jugaa nantinyaa, gw juga bakal sibuk kuliah tp tetep si pasti kepikiran ajaa, tapi ya balik lagi life goes on hidup gw tetep berjalan sambil nunggu mereka balik😭😭😭',\n",
              " 'Bingung sama antis pas bangtan belum wamil selalu di tanyain \"kapan wamil?\" Sekarang udah wamil malah bilang \"kok aset negara wamil?\" Awikawok banget yah antis nya bangtan ini 😂',\n",
              " '@ARMYTEAMIID tp senang karena mereka wamil ya hampir barengan',\n",
              " 'Hadeehh.. Pemerintah aja gk kasih bangtan apa2 kok. D kpop ini ada ribuan grup dr 4 gen + solois. Knp gak yg lain aja sih.. kaget ya bts kasih keputusan wamil n nolak maunya pemerintah? Wkwkw gk ada yg bisa ngatur bangtan. Noh kpopies uda berisik! Ksh kesempatan ke yg lain! https://t.co/OePNGZPsOv',\n",
              " 'Dih anjg? Biarin mereka wamil apa sih anjer https://t.co/ptO5fhm3eD',\n",
              " 'Masa wamil tapi harus tetep cari duit😵\\u200d💫?? biarin lah bts mau fokus wamil duluuuu. Bener2 deh govnya bikin🤢 https://t.co/raqAhjKsxd',\n",
              " 'sedih bgt BTS wamil, kirain bakal lanjutin PTD World Tour nya tahun depan, eh taunya wamil sampe 2025.\\n2025 aku udh 31 tahun pula\\U0001f979\\ntp gapapa mending wamil drpd mereka disuruh kerja rodi sm negaranya sendiri demi pundi2',\n",
              " 'ini fandom apaan si, idolnya mau wamil dibikin lawak bgt ama tingkahnya, bukan apa, tp sakit perut gweh drtd liat tl ketawa mulu😭😭😭',\n",
              " '@laviedenoona AAAAAAA JADI NEWS YANG TADI ITU BENER?!!??? TRS KENAPA KMRN MEMBER ADA YG BILANG MAU WORLD TOUR? AAAAAAHHH PRAANKKKKK 😭😭😭😭😭😭😭😭 NADA BACA INI MEREKA MAU WAMIL @melliflous99',\n",
              " 'Kan di 2025 BTS full member, ngebayangin gak sih belum sampai 1th udah dapat notif kalau member lain nyusul Wamil 😭 untuk #ARMY yok bisa yok~ nunggu sampai 3Th:\") sampai semua member selesai dari kewajiban nya~\\n #KimSeokjin #ForeverWithBTS #wamil https://t.co/MKPazOgX9U',\n",
              " '@ARMYTEAMIID See u @BTS_twt 🥺💜\\nRasanya berat banget mau bilang ini but I\\'m always waiting for you here, even though in 3 years something will change, still my heart for you will be the same🥺\\nThankyou, semoga kalian sehat\" selama wamil😭💜 https://t.co/7JUKoIzve2',\n",
              " 'Homyped Namira N35 Sandal Wanita \\n\\nDapatkan di 👇👇👇 https://t.co/Rokgol80nz\\n\\nTags : Editan Nokia Wamil KM 50 Blitar MacBook ARMY Semoga 2025 Nico Robin Pinggang Jaki iPad  ITZY Qatar Senin Oktober #BORNPINKinSeoul_Day2 #PerempuanDesa #zonauang https://t.co/K9mSYpoyBC',\n",
              " '@aukyu_CKH Padahal dengan semua pencapaian bts, kalo misal mereka nolak buat wamil pun pasti negara kasih privilege, mana coba yg pencapaiannya setara kaya bts? 🤔\\nTapi mereka tetep ngelakuin tugas mereka sbg warga negara yg baik &amp; berPRESTASI 🤭\\nAset negara nih bos. Punya diplomat passport',\n",
              " '@indomyfess KITA BAKAL WAMIL JUGA APAAA???? KAN KATA NAMU ARMY MEMBER KE 8😭😭',\n",
              " 'INITU BANGTAN WAMIL TAPI MEMENYA LEBIH LUCU JADI GABISA SEDIH TU GMNY😭\\U0001f979🤣',\n",
              " 'pas announcement seokjin solo album sudah menduga berarti dia wamil di akhir taun, 2025 comeback lagi its mean mreka ber7 wamil juga kah? pergi wamil barengan bisa lah ya, capek klo bahas wamil soalnya 😮\\u200d💨',\n",
              " 'Stlh tweet kek gini malah ditinggal wamil wkwkk. Tpi jujur 3 thn ga sbntr semoga waktu mereka udh kmpl di thn 2025 gua udh sukses, amiin. Gua udh lulus dgn gelar cumlaude (walaupun kemungkinannya tipis wkwk). Dan gua pen bgt ketemu kalian guys, so see u when I see 💜\\n#apobangpo https://t.co/bLvREEKTSD',\n",
              " '@Jkmgyu97 Aku udah nebak jin bakal diduluin solo project karna mau wamil, tapi ga nebak secepet ini dan tetep aja sedih walau dah nebak😭😭',\n",
              " 'Anjirr ulah bts mau wamil gw nangisnya gk udah” setiap buka sosmed 😭😭😭',\n",
              " '@whoall_ gausah sotoy, kalo gapenting nih parliament sm ministry of sk gaperlu ampe buka mulut ngurusin acara wamil, udh dari kapan bts bilang mereka bakal wamil tp pihak pemerintah diskusi terossss https://t.co/stEb6ZMnFC',\n",
              " '@jeondignity @Junmyeonid Iyakan,nah daripada idol mrka tu ada yg ikut daftar buat untuk ngundurin wamil malah ttp wamil jugaa 😭😂',\n",
              " 'ANJIR JEONGCHEOL 2023 WAMIL JUGA GASIH?',\n",
              " 'noh maju lo anjir yg bilang idolnya lebih tinggi atau bilang the next bts, biar bujang2 gue tenang wamil.\\ndi persilakan dah yg songong sering bilang lebih unggul dari bts🥴 https://t.co/nN2hJ1R8tY']"
            ]
          },
          "metadata": {},
          "execution_count": 8
        }
      ]
    },
    {
      "cell_type": "code",
      "source": [
        "!pip install Sastrawi"
      ],
      "metadata": {
        "colab": {
          "base_uri": "https://localhost:8080/"
        },
        "id": "pvw9WxqIAMmX",
        "outputId": "710e6eef-a6e8-4be9-f08b-cfbb65899361"
      },
      "execution_count": 9,
      "outputs": [
        {
          "output_type": "stream",
          "name": "stdout",
          "text": [
            "Looking in indexes: https://pypi.org/simple, https://us-python.pkg.dev/colab-wheels/public/simple/\n",
            "Collecting Sastrawi\n",
            "  Downloading Sastrawi-1.0.1-py2.py3-none-any.whl (209 kB)\n",
            "\u001b[K     |████████████████████████████████| 209 kB 6.5 MB/s \n",
            "\u001b[?25hInstalling collected packages: Sastrawi\n",
            "Successfully installed Sastrawi-1.0.1\n"
          ]
        }
      ]
    },
    {
      "cell_type": "code",
      "source": [
        "import re\n",
        "import string\n",
        "from Sastrawi.Stemmer.StemmerFactory import StemmerFactory# create stemmer\n",
        "factory = StemmerFactory()\n",
        "stemmer = factory.create_stemmer()# stemming process\n",
        "# import StopWordRemoverFactory class\n",
        "from Sastrawi.StopWordRemover.StopWordRemoverFactory import StopWordRemoverFactory\n",
        "factory = StopWordRemoverFactory()\n",
        "stopword = factory.create_stop_word_remover()\n",
        "documents_clean=[]\n",
        "\n",
        "for d in datatw:\n",
        "    outputstem= stemmer.stem(d)\n",
        "    d= stopword.remove(outputstem)\n",
        "    # Remove Unicode\n",
        "    document_test = re.sub(r'[^\\x00-\\x7F]+', ' ', d)\n",
        "    # Remove Mentions\n",
        "    document_test = re.sub(r'@\\w+', '', document_test)\n",
        "    # Lowercase the document\n",
        "    document_test = document_test.lower()\n",
        "    # Remove punctuations\n",
        "    document_test = re.sub(r'[%s]' % re.escape(string.punctuation), ' ', document_test)\n",
        "    # Lowercase the numbers\n",
        "    document_test = re.sub(r'[0-9]', '', document_test)\n",
        "    # Remove the doubled space\n",
        "    outputstop = re.sub(r'\\s{2,}', ' ', document_test)\n",
        "    documents_clean.append(outputstop)"
      ],
      "metadata": {
        "id": "LnxyhRCMAR8x"
      },
      "execution_count": 10,
      "outputs": []
    },
    {
      "cell_type": "code",
      "source": [
        "documents_clean[0:5]"
      ],
      "metadata": {
        "colab": {
          "base_uri": "https://localhost:8080/"
        },
        "id": "05dWwxsdAy5N",
        "outputId": "e308519f-946e-463a-cabf-3f8a916e6f7d"
      },
      "execution_count": 11,
      "outputs": [
        {
          "output_type": "execute_result",
          "data": {
            "text/plain": [
              "['luvintae pas pulang wamil ngapain soal kalo mau nge live kan dah klaim',\n",
              " 'sayang bts twt aku harap banget kalian wamil kalian manusia yg cape bukan robot yg mainin sama manusia aku gamau kalian di jadiin sapi perah sama perintah korsel https t co ansucbf',\n",
              " 'crop blouse lurik songket outfit kondangan cakep nih https t co laumllwjdp t itzy we trust you wamil baekhyun bighit macbook ipad nokia edit pinggang rest of my live le sserafim mewxsuho apobangpo https t co nlmqdte',\n",
              " 'tweet isi hari lama tinggal ayang wamil',\n",
              " 'honsoolatnight k army gak trima biar wamil semua biar gak beban lihat aja brita apa keluar kontribusi bts b bukan sedikit']"
            ]
          },
          "metadata": {},
          "execution_count": 11
        }
      ]
    },
    {
      "cell_type": "code",
      "source": [
        "from sklearn.feature_extraction.text import TfidfVectorizer\n",
        "import pandas as pd\n",
        "tfidfvectorizer = TfidfVectorizer(analyzer='word')\n",
        "tfidf_wm = tfidfvectorizer.fit_transform(documents_clean)\n",
        "tfidf_tokens = tfidfvectorizer.get_feature_names()"
      ],
      "metadata": {
        "colab": {
          "base_uri": "https://localhost:8080/"
        },
        "id": "wWHHsyhHA9y0",
        "outputId": "924bfe72-08b7-47de-9685-df397e2253a2"
      },
      "execution_count": 12,
      "outputs": [
        {
          "output_type": "stream",
          "name": "stderr",
          "text": [
            "/usr/local/lib/python3.7/dist-packages/sklearn/utils/deprecation.py:87: FutureWarning: Function get_feature_names is deprecated; get_feature_names is deprecated in 1.0 and will be removed in 1.2. Please use get_feature_names_out instead.\n",
            "  warnings.warn(msg, category=FutureWarning)\n"
          ]
        }
      ]
    },
    {
      "cell_type": "code",
      "source": [
        "from sklearn.feature_extraction.text import CountVectorizer \n",
        "import matplotlib.pyplot as plt\n",
        "import numpy as np # linear algebra\n",
        "import pandas as pd # data processing, CSV file I/O (e.g. pd.read_csv)\n",
        "cv = CountVectorizer()\n",
        "words = cv.fit_transform(documents_clean)\n",
        "sum_words = words.sum(axis=0)\n",
        "\n",
        "\n",
        "words_freq = [(word, sum_words[0, idx]) for word, idx in cv.vocabulary_.items()]\n",
        "words_freq = sorted(words_freq, key = lambda x: x[1], reverse = True)\n",
        "frequency = pd.DataFrame(words_freq, columns=['word', 'freq'])\n",
        "\n",
        "color = plt.cm.twilight(np.linspace(0, 1, 20))\n",
        "frequency.head(20).plot(x='word', y='freq', kind='bar', figsize=(15, 7), color = color)\n",
        "plt.title(\"Most Frequently Occuring Words - Top 20\")"
      ],
      "metadata": {
        "colab": {
          "base_uri": "https://localhost:8080/",
          "height": 374
        },
        "id": "t3ATM9mgBDZm",
        "outputId": "a356c9a6-698b-4ef3-867d-f28180344761"
      },
      "execution_count": 13,
      "outputs": [
        {
          "output_type": "execute_result",
          "data": {
            "text/plain": [
              "Text(0.5, 1.0, 'Most Frequently Occuring Words - Top 20')"
            ]
          },
          "metadata": {},
          "execution_count": 13
        },
        {
          "output_type": "display_data",
          "data": {
            "text/plain": [
              "<Figure size 1080x504 with 1 Axes>"
            ],
            "image/png": "[encoded data removed]"
          },
          "metadata": {
            "needs_background": "light"
          }
        }
      ]
    },
    {
      "cell_type": "code",
      "source": [
        "from sklearn.cluster import KMeans\n",
        "true_k = 3\n",
        "model = KMeans(n_clusters=true_k, init='k-means++', max_iter=100, n_init=1)\n",
        "model.fit(words)"
      ],
      "metadata": {
        "colab": {
          "base_uri": "https://localhost:8080/"
        },
        "id": "gD1F6Zq7BLaY",
        "outputId": "f52c772a-db7c-4d74-ca45-faccbe2633b4"
      },
      "execution_count": 14,
      "outputs": [
        {
          "output_type": "execute_result",
          "data": {
            "text/plain": [
              "KMeans(max_iter=100, n_clusters=3, n_init=1)"
            ]
          },
          "metadata": {},
          "execution_count": 14
        }
      ]
    },
    {
      "cell_type": "code",
      "source": [
        "order_centroids = model.cluster_centers_.argsort()[:, ::-1]\n",
        "terms = cv.get_feature_names()\n",
        "\n",
        "for i in range(true_k):\n",
        "    print(\"Cluster %d:\" % i),\n",
        "    for ind in order_centroids[i, :10]:\n",
        "        print(' %s' % terms[ind]),\n",
        "    print\n",
        "\n",
        "print(\"\\n\")"
      ],
      "metadata": {
        "colab": {
          "base_uri": "https://localhost:8080/"
        },
        "id": "2xsrqTW2BYEa",
        "outputId": "86f67596-6d1f-4568-a0a4-3e90ac463718"
      },
      "execution_count": 15,
      "outputs": [
        {
          "output_type": "stream",
          "name": "stdout",
          "text": [
            "Cluster 0:\n",
            " bakal\n",
            " grup\n",
            " iya\n",
            " beberapa\n",
            " mulai\n",
            " baru\n",
            " pasti\n",
            " wamil\n",
            " gitu\n",
            " cewekcantikadik\n",
            "Cluster 1:\n",
            " co\n",
            " https\n",
            " of\n",
            " macbook\n",
            " rest\n",
            " edit\n",
            " pinggang\n",
            " ipad\n",
            " my\n",
            " wamil\n",
            "Cluster 2:\n",
            " wamil\n",
            " https\n",
            " co\n",
            " bts\n",
            " mau\n",
            " yg\n",
            " bangtan\n",
            " udah\n",
            " aja\n",
            " apa\n",
            "\n",
            "\n"
          ]
        },
        {
          "output_type": "stream",
          "name": "stderr",
          "text": [
            "/usr/local/lib/python3.7/dist-packages/sklearn/utils/deprecation.py:87: FutureWarning: Function get_feature_names is deprecated; get_feature_names is deprecated in 1.0 and will be removed in 1.2. Please use get_feature_names_out instead.\n",
            "  warnings.warn(msg, category=FutureWarning)\n"
          ]
        }
      ]
    },
    {
      "cell_type": "code",
      "source": [
        "import scipy.cluster.hierarchy as sch\n",
        "X = cv.fit_transform(documents_clean).todense()\n",
        "dendrogram = sch.dendrogram(sch.linkage(X, method = 'ward',metric='euclidean'),orientation=\"top\")\n",
        "plt.title('Dendrogram')\n",
        "plt.xlabel('Jarak Ward')\n",
        "plt.ylabel('Nomor Dokumen')\n",
        "plt.show()"
      ],
      "metadata": {
        "colab": {
          "base_uri": "https://localhost:8080/",
          "height": 292
        },
        "id": "L5Z5uNQPBcDm",
        "outputId": "111ad37f-cc34-4638-a1ff-1b9b5a8c74ca"
      },
      "execution_count": 16,
      "outputs": [
        {
          "output_type": "display_data",
          "data": {
            "text/plain": [
              "<Figure size 432x288 with 1 Axes>"
            ],
            "image/png": "[encoded data removed]"
          },
          "metadata": {
            "needs_background": "light"
          }
        }
      ]
    },
    {
      "cell_type": "code",
      "source": [
        "import scipy.cluster.hierarchy as sch\n",
        "X = cv.fit_transform(documents_clean).todense()\n",
        "dendrogram = sch.dendrogram(sch.linkage(X, method = 'average',metric='euclidean'),orientation=\"right\") \n",
        "plt.title('Dendrogram')\n",
        "plt.xlabel('Jarak Rerata')\n",
        "plt.ylabel('Nomor Dokumen')\n",
        "plt.show()"
      ],
      "metadata": {
        "colab": {
          "base_uri": "https://localhost:8080/",
          "height": 295
        },
        "id": "NC8umWu_BoIZ",
        "outputId": "58734e15-b097-4de1-c209-1f0f0970e004"
      },
      "execution_count": 17,
      "outputs": [
        {
          "output_type": "display_data",
          "data": {
            "text/plain": [
              "<Figure size 432x288 with 1 Axes>"
            ],
            "image/png": "[encoded data removed]"
          },
          "metadata": {
            "needs_background": "light"
          }
        }
      ]
    }
  ]
}